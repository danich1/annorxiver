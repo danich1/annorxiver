{
 "cells": [
  {
   "cell_type": "markdown",
   "metadata": {},
   "source": [
    "# Get Token Counts and Word Vectors"
   ]
  },
  {
   "cell_type": "code",
   "execution_count": 1,
   "metadata": {
    "ExecuteTime": {
     "end_time": "2021-03-25T21:36:16.138139Z",
     "start_time": "2021-03-25T21:36:15.092072Z"
    }
   },
   "outputs": [],
   "source": [
    "import csv\n",
    "from pathlib import Path\n",
    "\n",
    "from gensim.models import Word2Vec\n",
    "import pandas as pd\n",
    "from tqdm import tqdm_notebook\n",
    "\n",
    "from annorxiver_modules.corpora_comparison_helper import get_word_stats\n",
    "from annorxiver_modules.document_helper import generate_doc_vector"
   ]
  },
  {
   "cell_type": "markdown",
   "metadata": {},
   "source": [
    "# BioRxiv"
   ]
  },
  {
   "cell_type": "code",
   "execution_count": 2,
   "metadata": {
    "ExecuteTime": {
     "end_time": "2021-03-25T21:36:16.193140Z",
     "start_time": "2021-03-25T21:36:16.139452Z"
    }
   },
   "outputs": [
    {
     "data": {
      "text/html": [
       "<div>\n",
       "<style scoped>\n",
       "    .dataframe tbody tr th:only-of-type {\n",
       "        vertical-align: middle;\n",
       "    }\n",
       "\n",
       "    .dataframe tbody tr th {\n",
       "        vertical-align: top;\n",
       "    }\n",
       "\n",
       "    .dataframe thead th {\n",
       "        text-align: right;\n",
       "    }\n",
       "</style>\n",
       "<table border=\"1\" class=\"dataframe\">\n",
       "  <thead>\n",
       "    <tr style=\"text-align: right;\">\n",
       "      <th></th>\n",
       "      <th>biorxiv_doi</th>\n",
       "      <th>published_doi</th>\n",
       "      <th>PMID</th>\n",
       "      <th>PMCID</th>\n",
       "      <th>Version</th>\n",
       "      <th>MID</th>\n",
       "      <th>IsCurrent</th>\n",
       "      <th>IsLive</th>\n",
       "      <th>ReleaseDate</th>\n",
       "      <th>Msg</th>\n",
       "    </tr>\n",
       "  </thead>\n",
       "  <tbody>\n",
       "    <tr>\n",
       "      <th>0</th>\n",
       "      <td>10.1101/2019.12.18.881391</td>\n",
       "      <td>10.1128/JVI.00426-20</td>\n",
       "      <td>32295925.0</td>\n",
       "      <td>PMC7307142</td>\n",
       "      <td>NaN</td>\n",
       "      <td>NaN</td>\n",
       "      <td>NaN</td>\n",
       "      <td>1</td>\n",
       "      <td>NaN</td>\n",
       "      <td>NaN</td>\n",
       "    </tr>\n",
       "    <tr>\n",
       "      <th>1</th>\n",
       "      <td>10.1101/2019.12.19.882274</td>\n",
       "      <td>10.3389/fpls.2020.00355</td>\n",
       "      <td>32373138.0</td>\n",
       "      <td>PMC7176908</td>\n",
       "      <td>NaN</td>\n",
       "      <td>NaN</td>\n",
       "      <td>NaN</td>\n",
       "      <td>1</td>\n",
       "      <td>NaN</td>\n",
       "      <td>NaN</td>\n",
       "    </tr>\n",
       "    <tr>\n",
       "      <th>2</th>\n",
       "      <td>10.1101/2020.01.13.905190</td>\n",
       "      <td>10.1182/blood.2019002867</td>\n",
       "      <td>32128578.0</td>\n",
       "      <td>PMC7243144</td>\n",
       "      <td>NaN</td>\n",
       "      <td>NaN</td>\n",
       "      <td>NaN</td>\n",
       "      <td>1</td>\n",
       "      <td>NaN</td>\n",
       "      <td>NaN</td>\n",
       "    </tr>\n",
       "    <tr>\n",
       "      <th>3</th>\n",
       "      <td>10.1101/2020.01.21.914929</td>\n",
       "      <td>10.1128/AAC.00086-20</td>\n",
       "      <td>32284379.0</td>\n",
       "      <td>PMC7269492</td>\n",
       "      <td>NaN</td>\n",
       "      <td>NaN</td>\n",
       "      <td>NaN</td>\n",
       "      <td>1</td>\n",
       "      <td>NaN</td>\n",
       "      <td>NaN</td>\n",
       "    </tr>\n",
       "    <tr>\n",
       "      <th>4</th>\n",
       "      <td>10.1101/2020.01.22.914952</td>\n",
       "      <td>10.1038/s41586-020-2012-7</td>\n",
       "      <td>32015507.0</td>\n",
       "      <td>PMC7095418</td>\n",
       "      <td>NaN</td>\n",
       "      <td>NaN</td>\n",
       "      <td>NaN</td>\n",
       "      <td>1</td>\n",
       "      <td>NaN</td>\n",
       "      <td>NaN</td>\n",
       "    </tr>\n",
       "  </tbody>\n",
       "</table>\n",
       "</div>"
      ],
      "text/plain": [
       "                 biorxiv_doi              published_doi        PMID  \\\n",
       "0  10.1101/2019.12.18.881391       10.1128/JVI.00426-20  32295925.0   \n",
       "1  10.1101/2019.12.19.882274    10.3389/fpls.2020.00355  32373138.0   \n",
       "2  10.1101/2020.01.13.905190   10.1182/blood.2019002867  32128578.0   \n",
       "3  10.1101/2020.01.21.914929       10.1128/AAC.00086-20  32284379.0   \n",
       "4  10.1101/2020.01.22.914952  10.1038/s41586-020-2012-7  32015507.0   \n",
       "\n",
       "        PMCID  Version  MID  IsCurrent  IsLive ReleaseDate  Msg  \n",
       "0  PMC7307142      NaN  NaN        NaN       1         NaN  NaN  \n",
       "1  PMC7176908      NaN  NaN        NaN       1         NaN  NaN  \n",
       "2  PMC7243144      NaN  NaN        NaN       1         NaN  NaN  \n",
       "3  PMC7269492      NaN  NaN        NaN       1         NaN  NaN  \n",
       "4  PMC7095418      NaN  NaN        NaN       1         NaN  NaN  "
      ]
     },
     "execution_count": 2,
     "metadata": {},
     "output_type": "execute_result"
    }
   ],
   "source": [
    "mapped_documents_df = pd.read_csv(\"output/polka_et_al_pmc_mapped_subset.tsv\", sep=\"\\t\")\n",
    "mapped_documents_df.head()"
   ]
  },
  {
   "cell_type": "code",
   "execution_count": 3,
   "metadata": {
    "ExecuteTime": {
     "end_time": "2021-03-25T21:36:16.276312Z",
     "start_time": "2021-03-25T21:36:16.194721Z"
    }
   },
   "outputs": [],
   "source": [
    "biorxiv_documents = [\n",
    "    Path(x.name) \n",
    "    for x in list(Path(\"output/biorxiv_xml_files\").rglob(\"*xml\"))\n",
    "]"
   ]
  },
  {
   "cell_type": "markdown",
   "metadata": {},
   "source": [
    "## BioRxiv -> Term counts"
   ]
  },
  {
   "cell_type": "code",
   "execution_count": 4,
   "metadata": {
    "ExecuteTime": {
     "end_time": "2021-03-25T21:36:40.452665Z",
     "start_time": "2021-03-25T21:36:16.281892Z"
    }
   },
   "outputs": [
    {
     "data": {
      "application/vnd.jupyter.widget-view+json": {
       "model_id": "a0e597f15ac7415292dc30a24740a067",
       "version_major": 2,
       "version_minor": 0
      },
      "text/plain": [
       "HBox(children=(IntProgress(value=0, max=60), HTML(value='')))"
      ]
     },
     "metadata": {},
     "output_type": "display_data"
    },
    {
     "name": "stdout",
     "output_type": "stream",
     "text": [
      "\n"
     ]
    }
   ],
   "source": [
    "Path(\"output/biorxiv_word_counts\").mkdir(exist_ok=True)\n",
    "sentence_length = get_word_stats(\n",
    "    document_list=biorxiv_documents,\n",
    "    document_folder=\"output/biorxiv_xml_files\",\n",
    "    tag_path=\"//abstract/p|//abstract/title|//body/sec//p|//body/sec//title\",\n",
    "    output_folder=\"output/biorxiv_word_counts\"\n",
    ")"
   ]
  },
  {
   "cell_type": "markdown",
   "metadata": {},
   "source": [
    "## BioRxiv -> Doc Embeddings"
   ]
  },
  {
   "cell_type": "code",
   "execution_count": 5,
   "metadata": {
    "ExecuteTime": {
     "end_time": "2021-03-25T21:36:44.586082Z",
     "start_time": "2021-03-25T21:36:40.454100Z"
    }
   },
   "outputs": [],
   "source": [
    "biorxiv_xpath_str = \"//abstract/p|//abstract/title|//body/sec//p|//body/sec//title\"\n",
    "word_model = Word2Vec.load(\n",
    "    str(\n",
    "        Path(\"../word_vector_experiment/output/word2vec_models/300/biorxiv_300.model\")\n",
    "    )\n",
    ")"
   ]
  },
  {
   "cell_type": "code",
   "execution_count": 6,
   "metadata": {
    "ExecuteTime": {
     "end_time": "2021-03-25T21:36:45.245515Z",
     "start_time": "2021-03-25T21:36:44.587341Z"
    }
   },
   "outputs": [
    {
     "data": {
      "application/vnd.jupyter.widget-view+json": {
       "model_id": "b4aaede3e25c41f1b65c838f5841f97d",
       "version_major": 2,
       "version_minor": 0
      },
      "text/plain": [
       "HBox(children=(IntProgress(value=0, max=60), HTML(value='')))"
      ]
     },
     "metadata": {},
     "output_type": "display_data"
    },
    {
     "name": "stdout",
     "output_type": "stream",
     "text": [
      "\n"
     ]
    }
   ],
   "source": [
    "biorxiv_document_map = {\n",
    "    document:generate_doc_vector(\n",
    "        word_model, \n",
    "        document_path = str(Path(\"output/biorxiv_xml_files\")/document),\n",
    "        xpath=biorxiv_xpath_str\n",
    "    )\n",
    "    for document in tqdm_notebook(biorxiv_documents)\n",
    "}"
   ]
  },
  {
   "cell_type": "code",
   "execution_count": 7,
   "metadata": {
    "ExecuteTime": {
     "end_time": "2021-03-25T21:36:45.296702Z",
     "start_time": "2021-03-25T21:36:45.246734Z"
    }
   },
   "outputs": [
    {
     "data": {
      "text/html": [
       "<div>\n",
       "<style scoped>\n",
       "    .dataframe tbody tr th:only-of-type {\n",
       "        vertical-align: middle;\n",
       "    }\n",
       "\n",
       "    .dataframe tbody tr th {\n",
       "        vertical-align: top;\n",
       "    }\n",
       "\n",
       "    .dataframe thead th {\n",
       "        text-align: right;\n",
       "    }\n",
       "</style>\n",
       "<table border=\"1\" class=\"dataframe\">\n",
       "  <thead>\n",
       "    <tr style=\"text-align: right;\">\n",
       "      <th></th>\n",
       "      <th>0</th>\n",
       "      <th>1</th>\n",
       "      <th>2</th>\n",
       "      <th>3</th>\n",
       "      <th>4</th>\n",
       "    </tr>\n",
       "  </thead>\n",
       "  <tbody>\n",
       "    <tr>\n",
       "      <th>document</th>\n",
       "      <td>838870_v1.xml</td>\n",
       "      <td>2020.02.13.945485_v1.xml</td>\n",
       "      <td>2020.01.13.905190_v1.xml</td>\n",
       "      <td>865089_v1.xml</td>\n",
       "      <td>832675_v1.xml</td>\n",
       "    </tr>\n",
       "    <tr>\n",
       "      <th>feat_0</th>\n",
       "      <td>-0.480256</td>\n",
       "      <td>-0.526527</td>\n",
       "      <td>0.0497441</td>\n",
       "      <td>0.133945</td>\n",
       "      <td>0.120574</td>\n",
       "    </tr>\n",
       "    <tr>\n",
       "      <th>feat_1</th>\n",
       "      <td>-0.1716</td>\n",
       "      <td>0.0138942</td>\n",
       "      <td>0.0582557</td>\n",
       "      <td>0.149573</td>\n",
       "      <td>0.435998</td>\n",
       "    </tr>\n",
       "    <tr>\n",
       "      <th>feat_2</th>\n",
       "      <td>-0.0388579</td>\n",
       "      <td>-0.0591003</td>\n",
       "      <td>-0.828798</td>\n",
       "      <td>-0.497015</td>\n",
       "      <td>-0.730727</td>\n",
       "    </tr>\n",
       "    <tr>\n",
       "      <th>feat_3</th>\n",
       "      <td>-0.0210492</td>\n",
       "      <td>0.0415092</td>\n",
       "      <td>-0.477814</td>\n",
       "      <td>0.186168</td>\n",
       "      <td>-0.144449</td>\n",
       "    </tr>\n",
       "    <tr>\n",
       "      <th>...</th>\n",
       "      <td>...</td>\n",
       "      <td>...</td>\n",
       "      <td>...</td>\n",
       "      <td>...</td>\n",
       "      <td>...</td>\n",
       "    </tr>\n",
       "    <tr>\n",
       "      <th>feat_295</th>\n",
       "      <td>-0.294772</td>\n",
       "      <td>-0.0705802</td>\n",
       "      <td>0.177389</td>\n",
       "      <td>0.126316</td>\n",
       "      <td>-0.809388</td>\n",
       "    </tr>\n",
       "    <tr>\n",
       "      <th>feat_296</th>\n",
       "      <td>0.209652</td>\n",
       "      <td>0.509606</td>\n",
       "      <td>0.374656</td>\n",
       "      <td>0.233592</td>\n",
       "      <td>0.447944</td>\n",
       "    </tr>\n",
       "    <tr>\n",
       "      <th>feat_297</th>\n",
       "      <td>0.638616</td>\n",
       "      <td>0.487253</td>\n",
       "      <td>0.136399</td>\n",
       "      <td>-0.127426</td>\n",
       "      <td>0.241587</td>\n",
       "    </tr>\n",
       "    <tr>\n",
       "      <th>feat_298</th>\n",
       "      <td>-0.0210951</td>\n",
       "      <td>-0.0329004</td>\n",
       "      <td>-0.516485</td>\n",
       "      <td>-0.238472</td>\n",
       "      <td>-0.461618</td>\n",
       "    </tr>\n",
       "    <tr>\n",
       "      <th>feat_299</th>\n",
       "      <td>0.30729</td>\n",
       "      <td>0.35671</td>\n",
       "      <td>0.555315</td>\n",
       "      <td>0.33309</td>\n",
       "      <td>-0.102931</td>\n",
       "    </tr>\n",
       "  </tbody>\n",
       "</table>\n",
       "<p>301 rows × 5 columns</p>\n",
       "</div>"
      ],
      "text/plain": [
       "                      0                         1                         2  \\\n",
       "document  838870_v1.xml  2020.02.13.945485_v1.xml  2020.01.13.905190_v1.xml   \n",
       "feat_0        -0.480256                 -0.526527                 0.0497441   \n",
       "feat_1          -0.1716                 0.0138942                 0.0582557   \n",
       "feat_2       -0.0388579                -0.0591003                 -0.828798   \n",
       "feat_3       -0.0210492                 0.0415092                 -0.477814   \n",
       "...                 ...                       ...                       ...   \n",
       "feat_295      -0.294772                -0.0705802                  0.177389   \n",
       "feat_296       0.209652                  0.509606                  0.374656   \n",
       "feat_297       0.638616                  0.487253                  0.136399   \n",
       "feat_298     -0.0210951                -0.0329004                 -0.516485   \n",
       "feat_299        0.30729                   0.35671                  0.555315   \n",
       "\n",
       "                      3              4  \n",
       "document  865089_v1.xml  832675_v1.xml  \n",
       "feat_0         0.133945       0.120574  \n",
       "feat_1         0.149573       0.435998  \n",
       "feat_2        -0.497015      -0.730727  \n",
       "feat_3         0.186168      -0.144449  \n",
       "...                 ...            ...  \n",
       "feat_295       0.126316      -0.809388  \n",
       "feat_296       0.233592       0.447944  \n",
       "feat_297      -0.127426       0.241587  \n",
       "feat_298      -0.238472      -0.461618  \n",
       "feat_299        0.33309      -0.102931  \n",
       "\n",
       "[301 rows x 5 columns]"
      ]
     },
     "execution_count": 7,
     "metadata": {},
     "output_type": "execute_result"
    }
   ],
   "source": [
    "biorxiv_vec_df = (\n",
    "    pd.DataFrame\n",
    "    .from_dict(biorxiv_document_map, orient=\"index\")\n",
    "    .rename(columns={col:f\"feat_{col}\" for col in range(int(300))})\n",
    "    .rename_axis(\"document\")\n",
    "    .reset_index()\n",
    ")\n",
    "\n",
    "biorxiv_vec_df.to_csv(\n",
    "    \"output/polka_et_al_biorxiv_embeddings.tsv\", \n",
    "    sep=\"\\t\", index=False\n",
    ")\n",
    "\n",
    "biorxiv_vec_df.head().T"
   ]
  },
  {
   "cell_type": "markdown",
   "metadata": {},
   "source": [
    "# PMCOA"
   ]
  },
  {
   "cell_type": "code",
   "execution_count": 8,
   "metadata": {
    "ExecuteTime": {
     "end_time": "2021-03-25T21:36:45.307878Z",
     "start_time": "2021-03-25T21:36:45.301391Z"
    }
   },
   "outputs": [],
   "source": [
    "pmcoa_documents = [\n",
    "    Path(f\"{x.parent.stem}/{x.name}\") \n",
    "    for x in list(Path(\"output/pmcoa_xml_files\").rglob(\"*nxml\"))\n",
    "]"
   ]
  },
  {
   "cell_type": "markdown",
   "metadata": {},
   "source": [
    "## PMCOA -> Term counts"
   ]
  },
  {
   "cell_type": "code",
   "execution_count": 9,
   "metadata": {
    "ExecuteTime": {
     "end_time": "2021-03-25T21:37:03.707157Z",
     "start_time": "2021-03-25T21:36:45.309944Z"
    }
   },
   "outputs": [
    {
     "data": {
      "application/vnd.jupyter.widget-view+json": {
       "model_id": "43527cee5f8e46c19e4e94e159d1a1ed",
       "version_major": 2,
       "version_minor": 0
      },
      "text/plain": [
       "HBox(children=(IntProgress(value=0, max=39), HTML(value='')))"
      ]
     },
     "metadata": {},
     "output_type": "display_data"
    },
    {
     "name": "stdout",
     "output_type": "stream",
     "text": [
      "\n"
     ]
    }
   ],
   "source": [
    "Path(\"output/pmcoa_word_counts\").mkdir(exist_ok=True)\n",
    "sentence_length = get_word_stats(\n",
    "    document_list=pmcoa_documents,\n",
    "    document_folder=\"output/pmcoa_xml_files\",\n",
    "    tag_path=\"//abstract/sec/*|//abstract/p|//body/sec/*|//body/p\",\n",
    "    output_folder=\"output/pmcoa_word_counts\"\n",
    ")"
   ]
  },
  {
   "cell_type": "markdown",
   "metadata": {},
   "source": [
    "## PMCOA -> Doc Vectors"
   ]
  },
  {
   "cell_type": "code",
   "execution_count": 10,
   "metadata": {
    "ExecuteTime": {
     "end_time": "2021-03-25T21:37:04.131540Z",
     "start_time": "2021-03-25T21:37:03.708666Z"
    }
   },
   "outputs": [],
   "source": [
    "pmcoa_vec_map = {\n",
    "    document.stem:generate_doc_vector(\n",
    "        word_model,\n",
    "        str(Path(\"output/pmcoa_xml_files\")/Path(document)), \n",
    "        \"//abstract/sec/*|//abstract/p|//body/sec/*|//body/p\"\n",
    "    )\n",
    "    for document in pmcoa_documents\n",
    "}"
   ]
  },
  {
   "cell_type": "code",
   "execution_count": 11,
   "metadata": {
    "ExecuteTime": {
     "end_time": "2021-03-25T21:37:04.172008Z",
     "start_time": "2021-03-25T21:37:04.133117Z"
    }
   },
   "outputs": [
    {
     "data": {
      "text/html": [
       "<div>\n",
       "<style scoped>\n",
       "    .dataframe tbody tr th:only-of-type {\n",
       "        vertical-align: middle;\n",
       "    }\n",
       "\n",
       "    .dataframe tbody tr th {\n",
       "        vertical-align: top;\n",
       "    }\n",
       "\n",
       "    .dataframe thead th {\n",
       "        text-align: right;\n",
       "    }\n",
       "</style>\n",
       "<table border=\"1\" class=\"dataframe\">\n",
       "  <thead>\n",
       "    <tr style=\"text-align: right;\">\n",
       "      <th></th>\n",
       "      <th>0</th>\n",
       "      <th>1</th>\n",
       "      <th>2</th>\n",
       "      <th>3</th>\n",
       "      <th>4</th>\n",
       "    </tr>\n",
       "  </thead>\n",
       "  <tbody>\n",
       "    <tr>\n",
       "      <th>document</th>\n",
       "      <td>PMC7095418</td>\n",
       "      <td>PMC7054013</td>\n",
       "      <td>PMC7182430</td>\n",
       "      <td>PMC7176908</td>\n",
       "      <td>PMC6907167</td>\n",
       "    </tr>\n",
       "    <tr>\n",
       "      <th>feat_0</th>\n",
       "      <td>-0.196777</td>\n",
       "      <td>-0.242958</td>\n",
       "      <td>-0.420515</td>\n",
       "      <td>-0.179555</td>\n",
       "      <td>-0.0898645</td>\n",
       "    </tr>\n",
       "    <tr>\n",
       "      <th>feat_1</th>\n",
       "      <td>-0.0923691</td>\n",
       "      <td>0.176935</td>\n",
       "      <td>-0.296674</td>\n",
       "      <td>-0.0550115</td>\n",
       "      <td>0.0552031</td>\n",
       "    </tr>\n",
       "    <tr>\n",
       "      <th>feat_2</th>\n",
       "      <td>-0.342167</td>\n",
       "      <td>-0.379532</td>\n",
       "      <td>-0.526647</td>\n",
       "      <td>-0.240822</td>\n",
       "      <td>-0.515187</td>\n",
       "    </tr>\n",
       "    <tr>\n",
       "      <th>feat_3</th>\n",
       "      <td>-0.115627</td>\n",
       "      <td>-0.187553</td>\n",
       "      <td>0.0424938</td>\n",
       "      <td>0.320286</td>\n",
       "      <td>0.64707</td>\n",
       "    </tr>\n",
       "    <tr>\n",
       "      <th>...</th>\n",
       "      <td>...</td>\n",
       "      <td>...</td>\n",
       "      <td>...</td>\n",
       "      <td>...</td>\n",
       "      <td>...</td>\n",
       "    </tr>\n",
       "    <tr>\n",
       "      <th>feat_295</th>\n",
       "      <td>-0.166095</td>\n",
       "      <td>-0.103187</td>\n",
       "      <td>-0.243082</td>\n",
       "      <td>-0.486879</td>\n",
       "      <td>0.169077</td>\n",
       "    </tr>\n",
       "    <tr>\n",
       "      <th>feat_296</th>\n",
       "      <td>0.368638</td>\n",
       "      <td>0.551733</td>\n",
       "      <td>0.603597</td>\n",
       "      <td>-0.0650531</td>\n",
       "      <td>0.277399</td>\n",
       "    </tr>\n",
       "    <tr>\n",
       "      <th>feat_297</th>\n",
       "      <td>0.203294</td>\n",
       "      <td>0.478303</td>\n",
       "      <td>0.453615</td>\n",
       "      <td>0.538904</td>\n",
       "      <td>0.128918</td>\n",
       "    </tr>\n",
       "    <tr>\n",
       "      <th>feat_298</th>\n",
       "      <td>-0.425629</td>\n",
       "      <td>0.0482001</td>\n",
       "      <td>-0.30829</td>\n",
       "      <td>0.191572</td>\n",
       "      <td>-0.0715847</td>\n",
       "    </tr>\n",
       "    <tr>\n",
       "      <th>feat_299</th>\n",
       "      <td>0.54034</td>\n",
       "      <td>0.104997</td>\n",
       "      <td>0.102998</td>\n",
       "      <td>0.299047</td>\n",
       "      <td>0.353283</td>\n",
       "    </tr>\n",
       "  </tbody>\n",
       "</table>\n",
       "<p>301 rows × 5 columns</p>\n",
       "</div>"
      ],
      "text/plain": [
       "                   0           1           2           3           4\n",
       "document  PMC7095418  PMC7054013  PMC7182430  PMC7176908  PMC6907167\n",
       "feat_0     -0.196777   -0.242958   -0.420515   -0.179555  -0.0898645\n",
       "feat_1    -0.0923691    0.176935   -0.296674  -0.0550115   0.0552031\n",
       "feat_2     -0.342167   -0.379532   -0.526647   -0.240822   -0.515187\n",
       "feat_3     -0.115627   -0.187553   0.0424938    0.320286     0.64707\n",
       "...              ...         ...         ...         ...         ...\n",
       "feat_295   -0.166095   -0.103187   -0.243082   -0.486879    0.169077\n",
       "feat_296    0.368638    0.551733    0.603597  -0.0650531    0.277399\n",
       "feat_297    0.203294    0.478303    0.453615    0.538904    0.128918\n",
       "feat_298   -0.425629   0.0482001    -0.30829    0.191572  -0.0715847\n",
       "feat_299     0.54034    0.104997    0.102998    0.299047    0.353283\n",
       "\n",
       "[301 rows x 5 columns]"
      ]
     },
     "execution_count": 11,
     "metadata": {},
     "output_type": "execute_result"
    }
   ],
   "source": [
    "pmcoa_vec_df = (\n",
    "    pd.DataFrame\n",
    "    .from_dict(pmcoa_vec_map, orient=\"index\")\n",
    "    .rename(columns={col:f\"feat_{col}\" for col in range(int(300))})\n",
    "    .rename_axis(\"document\")\n",
    "    .reset_index()\n",
    ")\n",
    "\n",
    "pmcoa_vec_df.to_csv(\n",
    "    f\"output/polka_et_al_pmcoa_embeddings.tsv\", \n",
    "    sep=\"\\t\", index=False\n",
    ")\n",
    "\n",
    "pmcoa_vec_df.head().T"
   ]
  }
 ],
 "metadata": {
  "kernelspec": {
   "display_name": "Python [conda env:annorxiver]",
   "language": "python",
   "name": "conda-env-annorxiver-py"
  },
  "language_info": {
   "codemirror_mode": {
    "name": "ipython",
    "version": 3
   },
   "file_extension": ".py",
   "mimetype": "text/x-python",
   "name": "python",
   "nbconvert_exporter": "python",
   "pygments_lexer": "ipython3",
   "version": "3.7.2"
  },
  "toc": {
   "base_numbering": 1,
   "nav_menu": {},
   "number_sections": true,
   "sideBar": true,
   "skip_h1_title": false,
   "title_cell": "Table of Contents",
   "title_sidebar": "Contents",
   "toc_cell": false,
   "toc_position": {},
   "toc_section_display": true,
   "toc_window_display": false
  }
 },
 "nbformat": 4,
 "nbformat_minor": 2
}
